{
  "nbformat": 4,
  "nbformat_minor": 0,
  "metadata": {
    "colab": {
      "provenance": []
    },
    "kernelspec": {
      "name": "python3",
      "display_name": "Python 3"
    },
    "language_info": {
      "name": "python"
    }
  },
  "cells": [
    {
      "cell_type": "code",
      "execution_count": 1,
      "metadata": {
        "colab": {
          "base_uri": "https://localhost:8080/"
        },
        "id": "6vKmJefXZLmn",
        "outputId": "0f745edb-c1fb-40ca-b801-feedffd56a64"
      },
      "outputs": [
        {
          "output_type": "stream",
          "name": "stdout",
          "text": [
            "YourName\n"
          ]
        }
      ],
      "source": [
        "#1 question\n",
        "name = \"YourName\"\n",
        "print(name)\n",
        "\n"
      ]
    },
    {
      "cell_type": "code",
      "source": [
        "#2 question\n",
        "a = 5\n",
        "b = 10\n",
        "print(a+b)\n"
      ],
      "metadata": {
        "colab": {
          "base_uri": "https://localhost:8080/"
        },
        "id": "4LV0sraPeM7U",
        "outputId": "4c7647e0-8797-4ca0-dd14-fe933070b39d"
      },
      "execution_count": 3,
      "outputs": [
        {
          "output_type": "stream",
          "name": "stdout",
          "text": [
            "15\n"
          ]
        }
      ]
    },
    {
      "cell_type": "code",
      "source": [
        "#3 question\n",
        "price = 99.99\n",
        "print(price)\n"
      ],
      "metadata": {
        "colab": {
          "base_uri": "https://localhost:8080/"
        },
        "id": "43y9Cw-MePr8",
        "outputId": "ea93140a-1fd9-4c74-81b4-92bed64807b4"
      },
      "execution_count": 4,
      "outputs": [
        {
          "output_type": "stream",
          "name": "stdout",
          "text": [
            "99.99\n"
          ]
        }
      ]
    },
    {
      "cell_type": "code",
      "source": [
        "#4 question\n",
        "is_vaild = True\n",
        "print(is_vaild)\n"
      ],
      "metadata": {
        "colab": {
          "base_uri": "https://localhost:8080/"
        },
        "id": "Wg9sQmcVeasr",
        "outputId": "bdec22cd-faf6-495d-802c-6790024f4100"
      },
      "execution_count": 5,
      "outputs": [
        {
          "output_type": "stream",
          "name": "stdout",
          "text": [
            "True\n"
          ]
        }
      ]
    },
    {
      "cell_type": "code",
      "source": [
        "#5 question\n",
        "x,y,z = 10,20,30\n",
        "print(x,y,z)\n"
      ],
      "metadata": {
        "colab": {
          "base_uri": "https://localhost:8080/"
        },
        "id": "o-Db6NWkelYC",
        "outputId": "d769d5b8-e3cc-49e1-fbf4-21e236a55d6d"
      },
      "execution_count": 6,
      "outputs": [
        {
          "output_type": "stream",
          "name": "stdout",
          "text": [
            "10 20 30\n"
          ]
        }
      ]
    },
    {
      "cell_type": "code",
      "source": [
        "#6 question\n",
        "p = q = r = 100\n",
        "print(p,q,r)\n"
      ],
      "metadata": {
        "colab": {
          "base_uri": "https://localhost:8080/"
        },
        "id": "I1cRCz9LexUD",
        "outputId": "4d53011e-59b1-42a9-829e-8575ed3acb0d"
      },
      "execution_count": 7,
      "outputs": [
        {
          "output_type": "stream",
          "name": "stdout",
          "text": [
            "100 100 100\n"
          ]
        }
      ]
    },
    {
      "cell_type": "code",
      "source": [
        "#7 question\n",
        "age = 25\n",
        "print(age)\n",
        "age = 30\n",
        "print(age)\n"
      ],
      "metadata": {
        "colab": {
          "base_uri": "https://localhost:8080/"
        },
        "id": "l8mht9Y_e6i6",
        "outputId": "8f3be281-bcbd-4cce-917b-609a6391b516"
      },
      "execution_count": 8,
      "outputs": [
        {
          "output_type": "stream",
          "name": "stdout",
          "text": [
            "25\n",
            "30\n"
          ]
        }
      ]
    },
    {
      "cell_type": "code",
      "source": [
        "#8 question\n",
        "value = 50\n",
        "del value\n",
        "# print(value) # This will cause an error since value is deleted"
      ],
      "metadata": {
        "id": "yv5dN_f8fLDj"
      },
      "execution_count": 9,
      "outputs": []
    },
    {
      "cell_type": "code",
      "source": [
        "#9 question\n",
        "message = \"HELLO WORLD!\"\n",
        "print(len(message))"
      ],
      "metadata": {
        "colab": {
          "base_uri": "https://localhost:8080/"
        },
        "id": "VilpwEIEfkAa",
        "outputId": "6dbea567-f8ae-4e20-8d82-a8386b1e5cd2"
      },
      "execution_count": 10,
      "outputs": [
        {
          "output_type": "stream",
          "name": "stdout",
          "text": [
            "12\n"
          ]
        }
      ]
    },
    {
      "cell_type": "code",
      "source": [
        "#10 question\n",
        "data = 42\n",
        "print(data)\n",
        "data = str(data)\n",
        "print(data)"
      ],
      "metadata": {
        "colab": {
          "base_uri": "https://localhost:8080/"
        },
        "id": "R2BX31nGf4zp",
        "outputId": "196f23e2-801e-44c3-c0a6-cce0af7fc264"
      },
      "execution_count": 11,
      "outputs": [
        {
          "output_type": "stream",
          "name": "stdout",
          "text": [
            "42\n",
            "42\n"
          ]
        }
      ]
    },
    {
      "cell_type": "code",
      "source": [
        "# if\n",
        "#1 question\n",
        "num = 5\n",
        "if num>0:\n",
        "  print(\"Positive Number\")\n",
        ""
      ],
      "metadata": {
        "id": "mAIKfKfOhq45"
      },
      "execution_count": null,
      "outputs": []
    },
    {
      "cell_type": "code",
      "source": [
        "#2 question\n",
        "age = 20\n",
        "if age >= 18:\n",
        " print(\"Eligible to vote\")\n",
        "else:\n",
        "  print(\"Not eligible to vote\")"
      ],
      "metadata": {
        "colab": {
          "base_uri": "https://localhost:8080/"
        },
        "id": "TIx8nVesiC0R",
        "outputId": "d09b3e3a-bee0-45b6-c77f-1b43e489598f"
      },
      "execution_count": 13,
      "outputs": [
        {
          "output_type": "stream",
          "name": "stdout",
          "text": [
            "Eligible to vote\n"
          ]
        }
      ]
    },
    {
      "cell_type": "code",
      "source": [
        "#3  question\n",
        "num = -3\n",
        "if num > 0:\n",
        "   print(\"Positive\")\n",
        "elif num < 0:\n",
        "  print(\"Negative\")\n",
        "else:\n",
        "  print(\"Zero\")"
      ],
      "metadata": {
        "colab": {
          "base_uri": "https://localhost:8080/"
        },
        "id": "0H96_6wvi0_h",
        "outputId": "acc9039c-c657-4aaf-dfba-c77e8f52a0a4"
      },
      "execution_count": 14,
      "outputs": [
        {
          "output_type": "stream",
          "name": "stdout",
          "text": [
            "Negative\n"
          ]
        }
      ]
    },
    {
      "cell_type": "code",
      "source": [
        "#4  question\n",
        "num = 7\n",
        "if num % 2 == 0:\n",
        "  print(\"even\")\n",
        "else:\n",
        "  print (\"odd\")\n"
      ],
      "metadata": {
        "colab": {
          "base_uri": "https://localhost:8080/"
        },
        "id": "M21PUPDIkdM3",
        "outputId": "1342db55-918a-434c-ebce-dec27fc956ec"
      },
      "execution_count": 15,
      "outputs": [
        {
          "output_type": "stream",
          "name": "stdout",
          "text": [
            "odd\n"
          ]
        }
      ]
    },
    {
      "cell_type": "code",
      "source": [
        "#5 question\n",
        "num = 8\n",
        "if num > 0:\n",
        "  if num % 2 == 0:\n",
        "    print(\"Positive and Even\")"
      ],
      "metadata": {
        "colab": {
          "base_uri": "https://localhost:8080/"
        },
        "id": "IUV5edM7k-pG",
        "outputId": "439a77db-e81e-4cd2-ad09-e5c8364525fc"
      },
      "execution_count": 16,
      "outputs": [
        {
          "output_type": "stream",
          "name": "stdout",
          "text": [
            "Positive and Even\n"
          ]
        }
      ]
    },
    {
      "cell_type": "code",
      "source": [
        "#6 question\n",
        "x = 10\n",
        "if x == 10:\n",
        "  print(\"python is cool\")"
      ],
      "metadata": {
        "colab": {
          "base_uri": "https://localhost:8080/"
        },
        "id": "oPSY4jMmmLlf",
        "outputId": "42d6c708-4f40-403b-8bef-47aac783d513"
      },
      "execution_count": 17,
      "outputs": [
        {
          "output_type": "stream",
          "name": "stdout",
          "text": [
            "python is cool\n"
          ]
        }
      ]
    },
    {
      "cell_type": "code",
      "source": [
        "#7 question\n",
        "num = 12\n",
        "print(\"Even\" if num % 2 == 0 else \"else\")"
      ],
      "metadata": {
        "colab": {
          "base_uri": "https://localhost:8080/"
        },
        "id": "bt0O2RX_mmxO",
        "outputId": "2be39a12-4429-4159-f33b-404f6ca7775b"
      },
      "execution_count": 21,
      "outputs": [
        {
          "output_type": "stream",
          "name": "stdout",
          "text": [
            "Even\n"
          ]
        }
      ]
    },
    {
      "cell_type": "code",
      "source": [
        "#8 question\n",
        "text=\"I love python programming\"\n",
        "if\"python\" in text:\n",
        "  print(\"String contains 'python'\")"
      ],
      "metadata": {
        "colab": {
          "base_uri": "https://localhost:8080/"
        },
        "id": "BUp1l9NZm_nm",
        "outputId": "b2449be9-f63e-4458-9634-ad1b82d7a472"
      },
      "execution_count": 29,
      "outputs": [
        {
          "output_type": "stream",
          "name": "stdout",
          "text": [
            "String contains 'python'\n"
          ]
        }
      ]
    },
    {
      "cell_type": "code",
      "source": [
        "#9 question\n",
        "num = 15\n",
        "if num % 3 ==0 and num % 5 == 0:\n",
        "  print(\"Divisible by both 3 and 5\")\n",
        "else:\n",
        "  print(\"Not Divisible by both 3 and 5\")"
      ],
      "metadata": {
        "colab": {
          "base_uri": "https://localhost:8080/"
        },
        "id": "NEXNAq4ynxLe",
        "outputId": "0258575b-c03b-4e74-c049-a336cdf5d277"
      },
      "execution_count": 18,
      "outputs": [
        {
          "output_type": "stream",
          "name": "stdout",
          "text": [
            "Divisible by both 3 and 5\n"
          ]
        }
      ]
    },
    {
      "cell_type": "code",
      "source": [
        "#10 question\n",
        "year = 2024\n",
        "if(year%4==0 and year%100!= 0) or (year%400==0):\n",
        " print(\"Leap Year\")\n",
        "else:\n",
        " print(\"Not leap Year\")"
      ],
      "metadata": {
        "colab": {
          "base_uri": "https://localhost:8080/"
        },
        "id": "O-r32y-GpI91",
        "outputId": "16483725-c188-4c16-d7dd-d55d35032904"
      },
      "execution_count": 23,
      "outputs": [
        {
          "output_type": "stream",
          "name": "stdout",
          "text": [
            "Leap Year\n"
          ]
        }
      ]
    }
  ]
}