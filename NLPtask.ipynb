{
  "nbformat": 4,
  "nbformat_minor": 0,
  "metadata": {
    "colab": {
      "provenance": [],
      "authorship_tag": "ABX9TyNJRt/WQaKzlOqZSQb1kAdB",
      "include_colab_link": true
    },
    "kernelspec": {
      "name": "python3",
      "display_name": "Python 3"
    },
    "language_info": {
      "name": "python"
    }
  },
  "cells": [
    {
      "cell_type": "markdown",
      "metadata": {
        "id": "view-in-github",
        "colab_type": "text"
      },
      "source": [
        "<a href=\"https://colab.research.google.com/github/Naazhini25/inlustro-training-even-sem/blob/main/NLPtask.ipynb\" target=\"_parent\"><img src=\"https://colab.research.google.com/assets/colab-badge.svg\" alt=\"Open In Colab\"/></a>"
      ]
    },
    {
      "cell_type": "code",
      "execution_count": null,
      "metadata": {
        "colab": {
          "base_uri": "https://localhost:8080/"
        },
        "id": "ovUM_0wDwhh0",
        "outputId": "5fa753be-4ae7-40e1-d181-c264014532d6"
      },
      "outputs": [
        {
          "output_type": "stream",
          "name": "stderr",
          "text": [
            "[nltk_data] Downloading package punkt to /root/nltk_data...\n",
            "[nltk_data]   Unzipping tokenizers/punkt.zip.\n",
            "[nltk_data] Downloading package punkt_tab to /root/nltk_data...\n",
            "[nltk_data]   Unzipping tokenizers/punkt_tab.zip.\n",
            "[nltk_data] Downloading package wordnet to /root/nltk_data...\n",
            "[nltk_data] Downloading package omw-1.4 to /root/nltk_data...\n",
            "[nltk_data] Downloading package stopwords to /root/nltk_data...\n",
            "[nltk_data]   Unzipping corpora/stopwords.zip.\n"
          ]
        },
        {
          "output_type": "execute_result",
          "data": {
            "text/plain": [
              "True"
            ]
          },
          "metadata": {},
          "execution_count": 1
        }
      ],
      "source": [
        "\n",
        "\n",
        "\n",
        "\n",
        "import nltk\n",
        "\n",
        "from nltk.tokenize import word_tokenize\n",
        "\n",
        "from nltk.stem import PorterStemmer, LancasterStemmer, SnowballStemmer\n",
        "\n",
        "from nltk.stem import WordNetLemmatizer\n",
        "\n",
        "from nltk.corpus import wordnet\n",
        "\n",
        "from nltk.corpus import stopwords\n",
        "\n",
        "nltk.download('punkt')\n",
        "\n",
        "# Download tokenizer\n",
        "\n",
        "nltk.download('punkt_tab')\n",
        "\n",
        "#Download WordNet for Lemmatization\n",
        "\n",
        "nltk.download('wordnet')\n",
        "\n",
        "nltk.download('omw-1.4')\n",
        "\n",
        "#WordNet dependency\n",
        "\n",
        "nltk.download('stopwords')"
      ]
    },
    {
      "cell_type": "code",
      "source": [],
      "metadata": {
        "id": "wmRiRhnsNL9Z"
      },
      "execution_count": null,
      "outputs": []
    },
    {
      "cell_type": "markdown",
      "source": [],
      "metadata": {
        "id": "oyOq2P2vypAO"
      }
    },
    {
      "cell_type": "code",
      "source": [
        "text =\" The earth is made up of land and water.\"\n",
        "tokens = word_tokenize(text)\n",
        "print(\"Original Tokens:\", tokens)"
      ],
      "metadata": {
        "colab": {
          "base_uri": "https://localhost:8080/"
        },
        "id": "4ghN-YinysC4",
        "outputId": "0efb1bd2-f1f1-486e-9c5a-a39a8fab4a91"
      },
      "execution_count": null,
      "outputs": [
        {
          "output_type": "stream",
          "name": "stdout",
          "text": [
            "Original Tokens: ['The', 'earth', 'is', 'made', 'up', 'of', 'land', 'and', 'water', '.']\n"
          ]
        }
      ]
    },
    {
      "cell_type": "code",
      "source": [
        "porter=PorterStemmer()\n",
        "stemmed_words=[porter.stem(word) for word in tokens]\n",
        "print(\"Porter Steamer:\", stemmed_words)"
      ],
      "metadata": {
        "colab": {
          "base_uri": "https://localhost:8080/"
        },
        "id": "lxf3mslxzpxO",
        "outputId": "16320801-f2ab-426e-f7c9-189e2af527ad"
      },
      "execution_count": null,
      "outputs": [
        {
          "output_type": "stream",
          "name": "stdout",
          "text": [
            "Porter Steamer: ['the', 'earth', 'is', 'made', 'up', 'of', 'land', 'and', 'water', '.']\n"
          ]
        }
      ]
    },
    {
      "cell_type": "code",
      "source": [
        "lemmatizer=WordNetLemmatizer()\n",
        "lemmatized_words=[lemmatizer.lemmatize(word) for word in tokens]\n",
        "print(\"Lemmatized Words:\", lemmatized_words)"
      ],
      "metadata": {
        "colab": {
          "base_uri": "https://localhost:8080/"
        },
        "id": "HoQRfBZI0XbT",
        "outputId": "733a9a63-257f-4a6c-f902-38af66d2b414"
      },
      "execution_count": null,
      "outputs": [
        {
          "output_type": "stream",
          "name": "stdout",
          "text": [
            "Lemmatized Words: ['The', 'earth', 'is', 'made', 'up', 'of', 'land', 'and', 'water', '.']\n"
          ]
        }
      ]
    },
    {
      "cell_type": "code",
      "source": [
        "tokens=[word.lower() for word in tokens]\n",
        "print(\"Lowercased Tokens:\", tokens)"
      ],
      "metadata": {
        "id": "u-DNo6S71pq6",
        "colab": {
          "base_uri": "https://localhost:8080/"
        },
        "outputId": "c2cc0f89-fdc7-4549-badb-6630c833c79d"
      },
      "execution_count": 9,
      "outputs": [
        {
          "output_type": "stream",
          "name": "stdout",
          "text": [
            "Lowercased Tokens: ['the', 'earth', 'is', 'made', 'up', 'of', 'land', 'and', 'water', '.']\n"
          ]
        }
      ]
    },
    {
      "cell_type": "code",
      "source": [
        "\n",
        "default_stopwords=set(stopwords.words('english'))\n",
        "default_filtered_tokens=[word for word in tokens if word not in default_stopwords]\n",
        "print(\"Tokens after removing default stopwords:\",default_filtered_tokens)"
      ],
      "metadata": {
        "colab": {
          "base_uri": "https://localhost:8080/"
        },
        "id": "4fLNTqoAEtyj",
        "outputId": "7b7534ce-7837-4f14-d56c-fd74df2e01f6"
      },
      "execution_count": 13,
      "outputs": [
        {
          "output_type": "stream",
          "name": "stdout",
          "text": [
            "Tokens after removing default stopwords: ['earth', 'made', 'land', 'water', '.']\n"
          ]
        }
      ]
    },
    {
      "cell_type": "code",
      "source": [
        "custom_stopwords={\"land\",\"water\",\".\"}\n",
        "custom_filtered_tokens = [ word for word in default_filtered_tokens if word not in custom_stopwords]\n",
        "print(\"Tokens after removing custom stopwords:\", custom_filtered_tokens)"
      ],
      "metadata": {
        "colab": {
          "base_uri": "https://localhost:8080/"
        },
        "id": "fIKpg9ePIGct",
        "outputId": "1e756789-0a64-49d8-cd6e-c0d286e861c1"
      },
      "execution_count": 14,
      "outputs": [
        {
          "output_type": "stream",
          "name": "stdout",
          "text": [
            "Tokens after removing custom stopwords: ['earth', 'made']\n"
          ]
        }
      ]
    },
    {
      "cell_type": "code",
      "source": [
        "from nltk import pos_tag\n",
        "nltk.download('averaged_perceptron_tagger_eng')\n",
        "pos_tags=pos_tag(custom_filtered_tokens)\n",
        "print(\"Pos Tags:\",pos_tags)"
      ],
      "metadata": {
        "colab": {
          "base_uri": "https://localhost:8080/"
        },
        "id": "gGXmN_69NVqZ",
        "outputId": "101a763d-5344-44e1-9457-7b4f2e1f0977"
      },
      "execution_count": 16,
      "outputs": [
        {
          "output_type": "stream",
          "name": "stderr",
          "text": [
            "[nltk_data] Downloading package averaged_perceptron_tagger_eng to\n",
            "[nltk_data]     /root/nltk_data...\n",
            "[nltk_data]   Unzipping taggers/averaged_perceptron_tagger_eng.zip.\n"
          ]
        },
        {
          "output_type": "stream",
          "name": "stdout",
          "text": [
            "Pos Tags: [('earth', 'NN'), ('made', 'VBD')]\n"
          ]
        }
      ]
    }
  ]
}