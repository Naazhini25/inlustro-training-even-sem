{
  "nbformat": 4,
  "nbformat_minor": 0,
  "metadata": {
    "colab": {
      "provenance": [],
      "authorship_tag": "ABX9TyO7xHJgyYUbgEpdsvO1Rgly",
      "include_colab_link": true
    },
    "kernelspec": {
      "name": "python3",
      "display_name": "Python 3"
    },
    "language_info": {
      "name": "python"
    }
  },
  "cells": [
    {
      "cell_type": "markdown",
      "metadata": {
        "id": "view-in-github",
        "colab_type": "text"
      },
      "source": [
        "<a href=\"https://colab.research.google.com/github/Naazhini25/inlustro-training-even-sem/blob/main/Stable_diffusion.ipynb\" target=\"_parent\"><img src=\"https://colab.research.google.com/assets/colab-badge.svg\" alt=\"Open In Colab\"/></a>"
      ]
    },
    {
      "cell_type": "code",
      "source": [
        "from diffusers import StableDiffusionPipeline\n",
        "import torch\n",
        "pipe=StableDiffusionPipeline.from_pretrained(\"runwayml/stable-diffusion-v1-5\")\n",
        "pipe.to(\"cpu\")\n",
        "prompt=\"A futuristic city skyline at sunset\"\n",
        "image=pipe(prompt).image[0]\n",
        "image.show()\n",
        "image.save(\"generated_image.png\")"
      ],
      "metadata": {
        "id": "OJv3O9o0-d0M"
      },
      "execution_count": null,
      "outputs": []
    }
  ]
}